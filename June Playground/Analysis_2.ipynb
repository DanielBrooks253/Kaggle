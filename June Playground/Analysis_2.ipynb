{
 "cells": [
  {
   "cell_type": "code",
   "execution_count": 1,
   "metadata": {},
   "outputs": [],
   "source": [
    "import pandas as pd\r\n",
    "import numpy as np\r\n",
    "import tensorflow as tf\r\n",
    "\r\n",
    "from deepforest import CascadeForestClassifier"
   ]
  },
  {
   "cell_type": "code",
   "execution_count": 2,
   "metadata": {},
   "outputs": [],
   "source": [
    "train = pd.read_csv('C:/Users/daniel.brooks/Documents/GitHub/Kaggle/June Playground/train.csv')\r\n",
    "test = pd.read_csv('C:/Users/daniel.brooks/Documents/GitHub/Kaggle/June Playground/test.csv')\r\n",
    "\r\n",
    "target = pd.get_dummies(train['target'])\r\n",
    "y = train['target']\r\n",
    "\r\n",
    "X = train.iloc[:,1:-1]\r\n",
    "test = test.iloc[:,1:]"
   ]
  },
  {
   "cell_type": "code",
   "execution_count": 3,
   "metadata": {},
   "outputs": [
    {
     "name": "stdout",
     "output_type": "stream",
     "text": [
      "[2021-06-08 16:22:32.802] Start to fit the model:\n",
      "[2021-06-08 16:22:32.802] Fitting cascade layer = 0 \n",
      "[2021-06-08 16:25:00.204] layer = 0  | Val Acc = 35.319 % | Elapsed = 147.402 s\n",
      "[2021-06-08 16:25:01.270] Fitting cascade layer = 1 \n",
      "[2021-06-08 16:28:28.074] layer = 1  | Val Acc = 35.100 % | Elapsed = 206.803 s\n",
      "[2021-06-08 16:28:28.074] Early stopping counter: 1 out of 2\n",
      "[2021-06-08 16:28:29.081] Fitting cascade layer = 2 \n",
      "[2021-06-08 16:31:56.036] layer = 2  | Val Acc = 35.040 % | Elapsed = 206.955 s\n",
      "[2021-06-08 16:31:56.036] Early stopping counter: 2 out of 2\n",
      "[2021-06-08 16:31:56.036] Handling early stopping\n",
      "[2021-06-08 16:31:56.244] The optimal number of layers: 1\n"
     ]
    }
   ],
   "source": [
    "model = CascadeForestClassifier(predictor=\"xgboost\", predictor_kwargs={'eval_metric': \"logloss\"})\r\n",
    "model.fit(np.array(X), np.array(train['target']))"
   ]
  },
  {
   "cell_type": "code",
   "execution_count": 4,
   "metadata": {},
   "outputs": [
    {
     "name": "stdout",
     "output_type": "stream",
     "text": [
      "[2021-06-08 16:31:56.543] Start to evalute the model:\n",
      "[2021-06-08 16:31:56.702] Evaluating cascade layer = 0 \n"
     ]
    }
   ],
   "source": [
    "preds = model.predict_proba(np.array(test))\r\n",
    "\r\n",
    "test = pd.read_csv('C:/Users/daniel.brooks/Documents/GitHub/Kaggle/June Playground/test.csv')\r\n",
    "submission = pd.DataFrame(preds, columns = ['Class_1', 'Class_2', 'Class_3', 'Class_4', 'Class_5', 'Class_6', 'Class_7', 'Class_8', 'Class_9'])\r\n",
    "submission['id'] = test['id']\r\n",
    "submission = submission[['id', 'Class_1', 'Class_2', 'Class_3', 'Class_4', 'Class_5', 'Class_6', 'Class_7', 'Class_8', 'Class_9']]"
   ]
  },
  {
   "cell_type": "code",
   "execution_count": 5,
   "metadata": {},
   "outputs": [],
   "source": [
    "submission.to_csv('C:/Users/daniel.brooks/Documents/GitHub/Kaggle/June Playground/submission_2.csv', index=False)"
   ]
  }
 ],
 "metadata": {
  "kernelspec": {
   "display_name": "Python 3.9.1 64-bit",
   "name": "python391jvsc74a57bd0ac59ebe37160ed0dfa835113d9b8498d9f09ceb179beaac4002f036b9467c963"
  },
  "language_info": {
   "name": "python",
   "version": ""
  },
  "metadata": {
   "interpreter": {
    "hash": "ac59ebe37160ed0dfa835113d9b8498d9f09ceb179beaac4002f036b9467c963"
   }
  },
  "orig_nbformat": 2
 },
 "nbformat": 4,
 "nbformat_minor": 2
}