{
 "cells": [
  {
   "cell_type": "code",
   "execution_count": 1,
   "metadata": {},
   "outputs": [],
   "source": [
    "import pandas as pd\r\n",
    "import numpy as np\r\n",
    "import tensorflow as tf\r\n",
    "\r\n",
    "from tensorflow import keras\r\n",
    "from sklearn.model_selection import KFold, StratifiedKFold\r\n",
    "from sklearn import preprocessing\r\n",
    "from sklearn.metrics import log_loss\r\n",
    "from tensorflow.keras import layers\r\n",
    "from tensorflow.keras import activations,callbacks\r\n",
    "from tensorflow.keras.optimizers import Adam\r\n",
    "from tensorflow.keras.metrics import categorical_crossentropy\r\n",
    "from keras.models import Model"
   ]
  },
  {
   "cell_type": "code",
   "execution_count": 2,
   "metadata": {},
   "outputs": [
    {
     "data": {
      "text/plain": "((200000, 77), (100000, 75))"
     },
     "execution_count": 2,
     "metadata": {},
     "output_type": "execute_result"
    }
   ],
   "source": [
    "train = pd.read_csv('C:/Users/daniel.brooks/Documents/GitHub/Kaggle/June Playground/train.csv')\r\n",
    "test = pd.read_csv('C:/Users/daniel.brooks/Documents/GitHub/Kaggle/June Playground/test.csv')\r\n",
    "\r\n",
    "target = pd.get_dummies(train['target'])\r\n",
    "y = train['target']\r\n",
    "\r\n",
    "X = train.iloc[:,1:-1]\r\n",
    "test = test.iloc[:,1:]\r\n",
    "\r\n",
    "train.shape, test.shape"
   ]
  },
  {
   "cell_type": "code",
   "execution_count": 5,
   "metadata": {},
   "outputs": [],
   "source": [
    "def LSTM():\r\n",
    "    inputs = layers.Input(shape=(75,1), name='Input')\r\n",
    "    x = layers.LSTM(100, activation=tf.keras.activations.relu)(inputs)\r\n",
    "    out = layers.Dense(9, activation='softmax', name='out')(x)   \r\n",
    "\r\n",
    "    model = Model(inputs, out)\r\n",
    "    return model\r\n",
    "\r\n",
    "es = callbacks.EarlyStopping(\r\n",
    "    monitor = 'val_categorical_crossentropy', \r\n",
    "    min_delta = 0.0000001, \r\n",
    "    patience = 2,\r\n",
    "    mode = 'min',\r\n",
    "    baseline = None, \r\n",
    "    restore_best_weights = True,\r\n",
    "    verbose = 1)\r\n",
    "\r\n",
    "\r\n",
    "plateau  = callbacks.ReduceLROnPlateau(\r\n",
    "                monitor = 'val_categorical_crossentropy',\r\n",
    "                factor = 0.5, \r\n",
    "                patience = 2, \r\n",
    "                mode = 'min', \r\n",
    "                min_delt = 0.0000001,\r\n",
    "                cooldown = 0, \r\n",
    "                min_lr = 1e-7,\r\n",
    "                verbose = 1) \r\n",
    "\r\n",
    "metrics = [tf.keras.metrics.CategoricalCrossentropy()]\r\n",
    "loss = tf.keras.losses.CategoricalCrossentropy(\r\n",
    "                from_logits=False,\r\n",
    "                label_smoothing=0,\r\n",
    "                reduction=\"auto\",\r\n",
    "                name=\"categorical_crossentropy\")"
   ]
  },
  {
   "cell_type": "code",
   "execution_count": 6,
   "metadata": {},
   "outputs": [
    {
     "name": "stdout",
     "output_type": "stream",
     "text": [
      "===== FOLD 0 =====\n",
      "Epoch 1/50\n"
     ]
    }
   ],
   "source": [
    "N_FOLDS = 10\r\n",
    "SEED = 2021\r\n",
    "oof = np.zeros((X.shape[0],9))\r\n",
    "pred = np.zeros((test.shape[0],9))\r\n",
    "\r\n",
    "\r\n",
    "skf = StratifiedKFold(n_splits=N_FOLDS, shuffle=True, random_state=SEED)\r\n",
    "\r\n",
    "for fold, (tr_idx, ts_idx) in enumerate(skf.split(X, y)):\r\n",
    "    print(f\"===== FOLD {fold} =====\")\r\n",
    "       \r\n",
    "    x_tr = X.iloc[tr_idx] \r\n",
    "    y_tr = target.iloc[tr_idx] \r\n",
    "    \r\n",
    "    x_ts = X.iloc[ts_idx] \r\n",
    "    y_ts = target.iloc[ts_idx] \r\n",
    "\r\n",
    "    model_nn= LSTM()\r\n",
    "\r\n",
    "    model_nn.compile(optimizer='adam',\r\n",
    "            loss = loss ,\r\n",
    "            metrics = metrics)\r\n",
    "    \r\n",
    "    model_nn.fit(x_tr,\r\n",
    "                y_tr,\r\n",
    "                validation_data = (x_ts, y_ts),\r\n",
    "                batch_size = 256,\r\n",
    "                epochs = 50,\r\n",
    "                verbose = 1,\r\n",
    "                callbacks = [es,plateau])\r\n",
    "    \r\n",
    "    \r\n",
    "    oof[ts_idx] = model_nn.predict(x_ts)\r\n",
    "\r\n",
    "    score = log_loss(y_ts, oof[ts_idx])\r\n",
    "    print(f\"FOLD {fold} Score {score}\\n\")\r\n",
    "    \r\n",
    "    pred += model_nn.predict(test)/ N_FOLDS\r\n",
    "\r\n",
    "score = log_loss(target, oof)\r\n",
    "print(f\"Score total {score}\\n\")  "
   ]
  }
 ],
 "metadata": {
  "kernelspec": {
   "display_name": "Python 3.9.1 64-bit",
   "name": "python391jvsc74a57bd0ac59ebe37160ed0dfa835113d9b8498d9f09ceb179beaac4002f036b9467c963"
  },
  "language_info": {
   "codemirror_mode": {
    "name": "ipython",
    "version": 3
   },
   "file_extension": ".py",
   "mimetype": "text/x-python",
   "name": "python",
   "nbconvert_exporter": "python",
   "pygments_lexer": "ipython3",
   "version": "3.9.1"
  },
  "metadata": {
   "interpreter": {
    "hash": "ac59ebe37160ed0dfa835113d9b8498d9f09ceb179beaac4002f036b9467c963"
   }
  },
  "orig_nbformat": 2
 },
 "nbformat": 4,
 "nbformat_minor": 2
}